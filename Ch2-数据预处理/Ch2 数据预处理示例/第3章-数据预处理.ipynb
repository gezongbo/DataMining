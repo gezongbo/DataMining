{
 "cells": [
  {
   "cell_type": "markdown",
   "metadata": {},
   "source": [
    "# 数据预处理"
   ]
  },
  {
   "cell_type": "markdown",
   "metadata": {},
   "source": [
    "现实的数据往往是充满噪声的，而没有高质量的数据，就没有高质量的数据挖掘结果。所以，我们需要对数据进行预处理，以提高数据的质量。\n",
    "\n",
    "数据的质量涉及许多因素，包括：\n",
    "- 准确性\n",
    "- 完整性\n",
    "- 一致性\n",
    "- 时效性\n",
    "- 可信性\n",
    "- 可解释性\n",
    "\n",
    "数据预处理的主要步骤为：\n",
    "- 数据清理：通过填写缺失值、光滑噪声数据、识别或删除离群点。并解决不一致性来“清理”数据\n",
    "- 数据集成：将多个数据源、数据库集成在一个\n",
    "- 数据规约：将得到的数据进行简化，去除冗余数据\n",
    "- 数据变换：讲数据进行规范化、数据离散化和数据分层，可以使得数据挖掘在多个抽象层次上进行。"
   ]
  },
  {
   "cell_type": "markdown",
   "metadata": {},
   "source": [
    "## 1.数据清洗\n",
    "\n",
    "现实中的数据一般是不完整的、有噪声的和不一致的。**数据清洗**试图填充缺失值、光滑噪声并识别离群点和纠正数据中的不一致。"
   ]
  },
  {
   "cell_type": "markdown",
   "metadata": {},
   "source": [
    "### 1.1 缺失值\n",
    "有时候我们获取的数据存在缺失值，这个往往用NaN来表示。"
   ]
  },
  {
   "cell_type": "code",
   "execution_count": 1,
   "metadata": {},
   "outputs": [
    {
     "data": {
      "text/html": [
       "<div>\n",
       "<style scoped>\n",
       "    .dataframe tbody tr th:only-of-type {\n",
       "        vertical-align: middle;\n",
       "    }\n",
       "\n",
       "    .dataframe tbody tr th {\n",
       "        vertical-align: top;\n",
       "    }\n",
       "\n",
       "    .dataframe thead th {\n",
       "        text-align: right;\n",
       "    }\n",
       "</style>\n",
       "<table border=\"1\" class=\"dataframe\">\n",
       "  <thead>\n",
       "    <tr style=\"text-align: right;\">\n",
       "      <th></th>\n",
       "      <th>first_name</th>\n",
       "      <th>last_name</th>\n",
       "      <th>age</th>\n",
       "      <th>sex</th>\n",
       "      <th>preTestScore</th>\n",
       "      <th>postTestScore</th>\n",
       "    </tr>\n",
       "  </thead>\n",
       "  <tbody>\n",
       "    <tr>\n",
       "      <th>0</th>\n",
       "      <td>Jason</td>\n",
       "      <td>Miller</td>\n",
       "      <td>42.0</td>\n",
       "      <td>m</td>\n",
       "      <td>4.0</td>\n",
       "      <td>25.0</td>\n",
       "    </tr>\n",
       "    <tr>\n",
       "      <th>1</th>\n",
       "      <td>NaN</td>\n",
       "      <td>NaN</td>\n",
       "      <td>NaN</td>\n",
       "      <td>NaN</td>\n",
       "      <td>NaN</td>\n",
       "      <td>NaN</td>\n",
       "    </tr>\n",
       "    <tr>\n",
       "      <th>2</th>\n",
       "      <td>Tina</td>\n",
       "      <td>Ali</td>\n",
       "      <td>36.0</td>\n",
       "      <td>f</td>\n",
       "      <td>NaN</td>\n",
       "      <td>NaN</td>\n",
       "    </tr>\n",
       "    <tr>\n",
       "      <th>3</th>\n",
       "      <td>Jake</td>\n",
       "      <td>Milner</td>\n",
       "      <td>24.0</td>\n",
       "      <td>m</td>\n",
       "      <td>2.0</td>\n",
       "      <td>62.0</td>\n",
       "    </tr>\n",
       "    <tr>\n",
       "      <th>4</th>\n",
       "      <td>Amy</td>\n",
       "      <td>Cooze</td>\n",
       "      <td>73.0</td>\n",
       "      <td>f</td>\n",
       "      <td>3.0</td>\n",
       "      <td>70.0</td>\n",
       "    </tr>\n",
       "  </tbody>\n",
       "</table>\n",
       "</div>"
      ],
      "text/plain": [
       "  first_name last_name   age  sex  preTestScore  postTestScore\n",
       "0      Jason    Miller  42.0    m           4.0           25.0\n",
       "1        NaN       NaN   NaN  NaN           NaN            NaN\n",
       "2       Tina       Ali  36.0    f           NaN            NaN\n",
       "3       Jake    Milner  24.0    m           2.0           62.0\n",
       "4        Amy     Cooze  73.0    f           3.0           70.0"
      ]
     },
     "execution_count": 1,
     "metadata": {},
     "output_type": "execute_result"
    }
   ],
   "source": [
    "import numpy as np\n",
    "import pandas as pd\n",
    "\n",
    "raw_data = {'first_name': ['Jason', np.nan, 'Tina', 'Jake', 'Amy'], \n",
    "        'last_name': ['Miller', np.nan, 'Ali', 'Milner', 'Cooze'], \n",
    "        'age': [42, np.nan, 36, 24, 73], \n",
    "        'sex': ['m', np.nan, 'f', 'm', 'f'], \n",
    "        'preTestScore': [4, np.nan, np.nan, 2, 3],\n",
    "        'postTestScore': [25, np.nan, np.nan, 62, 70]}\n",
    "df = pd.DataFrame(raw_data)\n",
    "df"
   ]
  },
  {
   "cell_type": "markdown",
   "metadata": {},
   "source": [
    "#### 忽略缺失值\n",
    "当缺失值较少的时候，我们可以丢弃缺失的元组，而缺失值较多的时候，我们需要采取别的方法"
   ]
  },
  {
   "cell_type": "code",
   "execution_count": 2,
   "metadata": {},
   "outputs": [
    {
     "data": {
      "text/html": [
       "<div>\n",
       "<style scoped>\n",
       "    .dataframe tbody tr th:only-of-type {\n",
       "        vertical-align: middle;\n",
       "    }\n",
       "\n",
       "    .dataframe tbody tr th {\n",
       "        vertical-align: top;\n",
       "    }\n",
       "\n",
       "    .dataframe thead th {\n",
       "        text-align: right;\n",
       "    }\n",
       "</style>\n",
       "<table border=\"1\" class=\"dataframe\">\n",
       "  <thead>\n",
       "    <tr style=\"text-align: right;\">\n",
       "      <th></th>\n",
       "      <th>first_name</th>\n",
       "      <th>last_name</th>\n",
       "      <th>age</th>\n",
       "      <th>sex</th>\n",
       "      <th>preTestScore</th>\n",
       "      <th>postTestScore</th>\n",
       "    </tr>\n",
       "  </thead>\n",
       "  <tbody>\n",
       "    <tr>\n",
       "      <th>0</th>\n",
       "      <td>False</td>\n",
       "      <td>False</td>\n",
       "      <td>False</td>\n",
       "      <td>False</td>\n",
       "      <td>False</td>\n",
       "      <td>False</td>\n",
       "    </tr>\n",
       "    <tr>\n",
       "      <th>1</th>\n",
       "      <td>True</td>\n",
       "      <td>True</td>\n",
       "      <td>True</td>\n",
       "      <td>True</td>\n",
       "      <td>True</td>\n",
       "      <td>True</td>\n",
       "    </tr>\n",
       "    <tr>\n",
       "      <th>2</th>\n",
       "      <td>False</td>\n",
       "      <td>False</td>\n",
       "      <td>False</td>\n",
       "      <td>False</td>\n",
       "      <td>True</td>\n",
       "      <td>True</td>\n",
       "    </tr>\n",
       "    <tr>\n",
       "      <th>3</th>\n",
       "      <td>False</td>\n",
       "      <td>False</td>\n",
       "      <td>False</td>\n",
       "      <td>False</td>\n",
       "      <td>False</td>\n",
       "      <td>False</td>\n",
       "    </tr>\n",
       "    <tr>\n",
       "      <th>4</th>\n",
       "      <td>False</td>\n",
       "      <td>False</td>\n",
       "      <td>False</td>\n",
       "      <td>False</td>\n",
       "      <td>False</td>\n",
       "      <td>False</td>\n",
       "    </tr>\n",
       "  </tbody>\n",
       "</table>\n",
       "</div>"
      ],
      "text/plain": [
       "   first_name  last_name    age    sex  preTestScore  postTestScore\n",
       "0       False      False  False  False         False          False\n",
       "1        True       True   True   True          True           True\n",
       "2       False      False  False  False          True           True\n",
       "3       False      False  False  False         False          False\n",
       "4       False      False  False  False         False          False"
      ]
     },
     "execution_count": 2,
     "metadata": {},
     "output_type": "execute_result"
    }
   ],
   "source": [
    "## 判断缺失值\n",
    "df.isnull()"
   ]
  },
  {
   "cell_type": "code",
   "execution_count": 3,
   "metadata": {},
   "outputs": [
    {
     "data": {
      "text/html": [
       "<div>\n",
       "<style scoped>\n",
       "    .dataframe tbody tr th:only-of-type {\n",
       "        vertical-align: middle;\n",
       "    }\n",
       "\n",
       "    .dataframe tbody tr th {\n",
       "        vertical-align: top;\n",
       "    }\n",
       "\n",
       "    .dataframe thead th {\n",
       "        text-align: right;\n",
       "    }\n",
       "</style>\n",
       "<table border=\"1\" class=\"dataframe\">\n",
       "  <thead>\n",
       "    <tr style=\"text-align: right;\">\n",
       "      <th></th>\n",
       "      <th>first_name</th>\n",
       "      <th>last_name</th>\n",
       "      <th>age</th>\n",
       "      <th>sex</th>\n",
       "      <th>preTestScore</th>\n",
       "      <th>postTestScore</th>\n",
       "    </tr>\n",
       "  </thead>\n",
       "  <tbody>\n",
       "    <tr>\n",
       "      <th>0</th>\n",
       "      <td>Jason</td>\n",
       "      <td>Miller</td>\n",
       "      <td>42.0</td>\n",
       "      <td>m</td>\n",
       "      <td>4.0</td>\n",
       "      <td>25.0</td>\n",
       "    </tr>\n",
       "    <tr>\n",
       "      <th>3</th>\n",
       "      <td>Jake</td>\n",
       "      <td>Milner</td>\n",
       "      <td>24.0</td>\n",
       "      <td>m</td>\n",
       "      <td>2.0</td>\n",
       "      <td>62.0</td>\n",
       "    </tr>\n",
       "    <tr>\n",
       "      <th>4</th>\n",
       "      <td>Amy</td>\n",
       "      <td>Cooze</td>\n",
       "      <td>73.0</td>\n",
       "      <td>f</td>\n",
       "      <td>3.0</td>\n",
       "      <td>70.0</td>\n",
       "    </tr>\n",
       "  </tbody>\n",
       "</table>\n",
       "</div>"
      ],
      "text/plain": [
       "  first_name last_name   age sex  preTestScore  postTestScore\n",
       "0      Jason    Miller  42.0   m           4.0           25.0\n",
       "3       Jake    Milner  24.0   m           2.0           62.0\n",
       "4        Amy     Cooze  73.0   f           3.0           70.0"
      ]
     },
     "execution_count": 3,
     "metadata": {},
     "output_type": "execute_result"
    }
   ],
   "source": [
    "## 删除缺失值所在的元组（行）\n",
    "df.dropna(axis=0)"
   ]
  },
  {
   "cell_type": "markdown",
   "metadata": {},
   "source": [
    "#### 人工填写缺失值\n",
    "该方法对少数缺失值有效，但费时，且当数据非常大时难以实现"
   ]
  },
  {
   "cell_type": "code",
   "execution_count": 4,
   "metadata": {},
   "outputs": [
    {
     "data": {
      "text/html": [
       "<div>\n",
       "<style scoped>\n",
       "    .dataframe tbody tr th:only-of-type {\n",
       "        vertical-align: middle;\n",
       "    }\n",
       "\n",
       "    .dataframe tbody tr th {\n",
       "        vertical-align: top;\n",
       "    }\n",
       "\n",
       "    .dataframe thead th {\n",
       "        text-align: right;\n",
       "    }\n",
       "</style>\n",
       "<table border=\"1\" class=\"dataframe\">\n",
       "  <thead>\n",
       "    <tr style=\"text-align: right;\">\n",
       "      <th></th>\n",
       "      <th>first_name</th>\n",
       "      <th>last_name</th>\n",
       "      <th>age</th>\n",
       "      <th>sex</th>\n",
       "      <th>preTestScore</th>\n",
       "      <th>postTestScore</th>\n",
       "    </tr>\n",
       "  </thead>\n",
       "  <tbody>\n",
       "    <tr>\n",
       "      <th>0</th>\n",
       "      <td>Jason</td>\n",
       "      <td>Miller</td>\n",
       "      <td>42.0</td>\n",
       "      <td>m</td>\n",
       "      <td>4.0</td>\n",
       "      <td>25.0</td>\n",
       "    </tr>\n",
       "    <tr>\n",
       "      <th>1</th>\n",
       "      <td>NaN</td>\n",
       "      <td>NaN</td>\n",
       "      <td>30.0</td>\n",
       "      <td>NaN</td>\n",
       "      <td>NaN</td>\n",
       "      <td>NaN</td>\n",
       "    </tr>\n",
       "    <tr>\n",
       "      <th>2</th>\n",
       "      <td>Tina</td>\n",
       "      <td>Ali</td>\n",
       "      <td>36.0</td>\n",
       "      <td>f</td>\n",
       "      <td>NaN</td>\n",
       "      <td>NaN</td>\n",
       "    </tr>\n",
       "    <tr>\n",
       "      <th>3</th>\n",
       "      <td>Jake</td>\n",
       "      <td>Milner</td>\n",
       "      <td>24.0</td>\n",
       "      <td>m</td>\n",
       "      <td>2.0</td>\n",
       "      <td>62.0</td>\n",
       "    </tr>\n",
       "    <tr>\n",
       "      <th>4</th>\n",
       "      <td>Amy</td>\n",
       "      <td>Cooze</td>\n",
       "      <td>73.0</td>\n",
       "      <td>f</td>\n",
       "      <td>3.0</td>\n",
       "      <td>70.0</td>\n",
       "    </tr>\n",
       "  </tbody>\n",
       "</table>\n",
       "</div>"
      ],
      "text/plain": [
       "  first_name last_name   age  sex  preTestScore  postTestScore\n",
       "0      Jason    Miller  42.0    m           4.0           25.0\n",
       "1        NaN       NaN  30.0  NaN           NaN            NaN\n",
       "2       Tina       Ali  36.0    f           NaN            NaN\n",
       "3       Jake    Milner  24.0    m           2.0           62.0\n",
       "4        Amy     Cooze  73.0    f           3.0           70.0"
      ]
     },
     "execution_count": 4,
     "metadata": {},
     "output_type": "execute_result"
    }
   ],
   "source": [
    "## 将序号 1 的年龄填写为30\n",
    "df_manual = df.copy()\n",
    "df_manual.loc[1,'age'] = 30\n",
    "df_manual"
   ]
  },
  {
   "cell_type": "markdown",
   "metadata": {},
   "source": [
    "#### 使用一个全局常量填充缺失值"
   ]
  },
  {
   "cell_type": "code",
   "execution_count": 5,
   "metadata": {},
   "outputs": [
    {
     "data": {
      "text/html": [
       "<div>\n",
       "<style scoped>\n",
       "    .dataframe tbody tr th:only-of-type {\n",
       "        vertical-align: middle;\n",
       "    }\n",
       "\n",
       "    .dataframe tbody tr th {\n",
       "        vertical-align: top;\n",
       "    }\n",
       "\n",
       "    .dataframe thead th {\n",
       "        text-align: right;\n",
       "    }\n",
       "</style>\n",
       "<table border=\"1\" class=\"dataframe\">\n",
       "  <thead>\n",
       "    <tr style=\"text-align: right;\">\n",
       "      <th></th>\n",
       "      <th>first_name</th>\n",
       "      <th>last_name</th>\n",
       "      <th>age</th>\n",
       "      <th>sex</th>\n",
       "      <th>preTestScore</th>\n",
       "      <th>postTestScore</th>\n",
       "    </tr>\n",
       "  </thead>\n",
       "  <tbody>\n",
       "    <tr>\n",
       "      <th>0</th>\n",
       "      <td>Jason</td>\n",
       "      <td>Miller</td>\n",
       "      <td>42.0</td>\n",
       "      <td>m</td>\n",
       "      <td>4.0</td>\n",
       "      <td>25.0</td>\n",
       "    </tr>\n",
       "    <tr>\n",
       "      <th>1</th>\n",
       "      <td>999</td>\n",
       "      <td>999</td>\n",
       "      <td>999.0</td>\n",
       "      <td>999</td>\n",
       "      <td>999.0</td>\n",
       "      <td>999.0</td>\n",
       "    </tr>\n",
       "    <tr>\n",
       "      <th>2</th>\n",
       "      <td>Tina</td>\n",
       "      <td>Ali</td>\n",
       "      <td>36.0</td>\n",
       "      <td>f</td>\n",
       "      <td>999.0</td>\n",
       "      <td>999.0</td>\n",
       "    </tr>\n",
       "    <tr>\n",
       "      <th>3</th>\n",
       "      <td>Jake</td>\n",
       "      <td>Milner</td>\n",
       "      <td>24.0</td>\n",
       "      <td>m</td>\n",
       "      <td>2.0</td>\n",
       "      <td>62.0</td>\n",
       "    </tr>\n",
       "    <tr>\n",
       "      <th>4</th>\n",
       "      <td>Amy</td>\n",
       "      <td>Cooze</td>\n",
       "      <td>73.0</td>\n",
       "      <td>f</td>\n",
       "      <td>3.0</td>\n",
       "      <td>70.0</td>\n",
       "    </tr>\n",
       "  </tbody>\n",
       "</table>\n",
       "</div>"
      ],
      "text/plain": [
       "  first_name last_name    age  sex  preTestScore  postTestScore\n",
       "0      Jason    Miller   42.0    m           4.0           25.0\n",
       "1        999       999  999.0  999         999.0          999.0\n",
       "2       Tina       Ali   36.0    f         999.0          999.0\n",
       "3       Jake    Milner   24.0    m           2.0           62.0\n",
       "4        Amy     Cooze   73.0    f           3.0           70.0"
      ]
     },
     "execution_count": 5,
     "metadata": {},
     "output_type": "execute_result"
    }
   ],
   "source": [
    "## 用999填充缺失值\n",
    "df.fillna(value=999)"
   ]
  },
  {
   "cell_type": "markdown",
   "metadata": {},
   "source": [
    "#### 使用属性中心度填充缺失值"
   ]
  },
  {
   "cell_type": "code",
   "execution_count": 6,
   "metadata": {},
   "outputs": [
    {
     "data": {
      "text/html": [
       "<div>\n",
       "<style scoped>\n",
       "    .dataframe tbody tr th:only-of-type {\n",
       "        vertical-align: middle;\n",
       "    }\n",
       "\n",
       "    .dataframe tbody tr th {\n",
       "        vertical-align: top;\n",
       "    }\n",
       "\n",
       "    .dataframe thead th {\n",
       "        text-align: right;\n",
       "    }\n",
       "</style>\n",
       "<table border=\"1\" class=\"dataframe\">\n",
       "  <thead>\n",
       "    <tr style=\"text-align: right;\">\n",
       "      <th></th>\n",
       "      <th>first_name</th>\n",
       "      <th>last_name</th>\n",
       "      <th>age</th>\n",
       "      <th>sex</th>\n",
       "      <th>preTestScore</th>\n",
       "      <th>postTestScore</th>\n",
       "    </tr>\n",
       "  </thead>\n",
       "  <tbody>\n",
       "    <tr>\n",
       "      <th>0</th>\n",
       "      <td>Jason</td>\n",
       "      <td>Miller</td>\n",
       "      <td>42.00</td>\n",
       "      <td>m</td>\n",
       "      <td>4.0</td>\n",
       "      <td>25.000000</td>\n",
       "    </tr>\n",
       "    <tr>\n",
       "      <th>1</th>\n",
       "      <td>NaN</td>\n",
       "      <td>NaN</td>\n",
       "      <td>43.75</td>\n",
       "      <td>NaN</td>\n",
       "      <td>3.0</td>\n",
       "      <td>52.333333</td>\n",
       "    </tr>\n",
       "    <tr>\n",
       "      <th>2</th>\n",
       "      <td>Tina</td>\n",
       "      <td>Ali</td>\n",
       "      <td>36.00</td>\n",
       "      <td>f</td>\n",
       "      <td>3.0</td>\n",
       "      <td>52.333333</td>\n",
       "    </tr>\n",
       "    <tr>\n",
       "      <th>3</th>\n",
       "      <td>Jake</td>\n",
       "      <td>Milner</td>\n",
       "      <td>24.00</td>\n",
       "      <td>m</td>\n",
       "      <td>2.0</td>\n",
       "      <td>62.000000</td>\n",
       "    </tr>\n",
       "    <tr>\n",
       "      <th>4</th>\n",
       "      <td>Amy</td>\n",
       "      <td>Cooze</td>\n",
       "      <td>73.00</td>\n",
       "      <td>f</td>\n",
       "      <td>3.0</td>\n",
       "      <td>70.000000</td>\n",
       "    </tr>\n",
       "  </tbody>\n",
       "</table>\n",
       "</div>"
      ],
      "text/plain": [
       "  first_name last_name    age  sex  preTestScore  postTestScore\n",
       "0      Jason    Miller  42.00    m           4.0      25.000000\n",
       "1        NaN       NaN  43.75  NaN           3.0      52.333333\n",
       "2       Tina       Ali  36.00    f           3.0      52.333333\n",
       "3       Jake    Milner  24.00    m           2.0      62.000000\n",
       "4        Amy     Cooze  73.00    f           3.0      70.000000"
      ]
     },
     "execution_count": 6,
     "metadata": {},
     "output_type": "execute_result"
    }
   ],
   "source": [
    "## 给定元组均值\n",
    "df.fillna(value=df.mean())"
   ]
  },
  {
   "cell_type": "markdown",
   "metadata": {},
   "source": [
    "#### 使用最可能的值填充缺失值\n",
    "可使用是回归、贝叶斯等方法确定最可能的值。也可以使用插值法填充。"
   ]
  },
  {
   "cell_type": "code",
   "execution_count": 7,
   "metadata": {},
   "outputs": [
    {
     "data": {
      "text/html": [
       "<div>\n",
       "<style scoped>\n",
       "    .dataframe tbody tr th:only-of-type {\n",
       "        vertical-align: middle;\n",
       "    }\n",
       "\n",
       "    .dataframe tbody tr th {\n",
       "        vertical-align: top;\n",
       "    }\n",
       "\n",
       "    .dataframe thead th {\n",
       "        text-align: right;\n",
       "    }\n",
       "</style>\n",
       "<table border=\"1\" class=\"dataframe\">\n",
       "  <thead>\n",
       "    <tr style=\"text-align: right;\">\n",
       "      <th></th>\n",
       "      <th>first_name</th>\n",
       "      <th>last_name</th>\n",
       "      <th>age</th>\n",
       "      <th>sex</th>\n",
       "      <th>preTestScore</th>\n",
       "      <th>postTestScore</th>\n",
       "    </tr>\n",
       "  </thead>\n",
       "  <tbody>\n",
       "    <tr>\n",
       "      <th>0</th>\n",
       "      <td>Jason</td>\n",
       "      <td>Miller</td>\n",
       "      <td>42.0</td>\n",
       "      <td>m</td>\n",
       "      <td>4.0</td>\n",
       "      <td>25.0</td>\n",
       "    </tr>\n",
       "    <tr>\n",
       "      <th>1</th>\n",
       "      <td>Jason</td>\n",
       "      <td>Miller</td>\n",
       "      <td>42.0</td>\n",
       "      <td>m</td>\n",
       "      <td>4.0</td>\n",
       "      <td>25.0</td>\n",
       "    </tr>\n",
       "    <tr>\n",
       "      <th>2</th>\n",
       "      <td>Tina</td>\n",
       "      <td>Ali</td>\n",
       "      <td>36.0</td>\n",
       "      <td>f</td>\n",
       "      <td>4.0</td>\n",
       "      <td>25.0</td>\n",
       "    </tr>\n",
       "    <tr>\n",
       "      <th>3</th>\n",
       "      <td>Jake</td>\n",
       "      <td>Milner</td>\n",
       "      <td>24.0</td>\n",
       "      <td>m</td>\n",
       "      <td>2.0</td>\n",
       "      <td>62.0</td>\n",
       "    </tr>\n",
       "    <tr>\n",
       "      <th>4</th>\n",
       "      <td>Amy</td>\n",
       "      <td>Cooze</td>\n",
       "      <td>73.0</td>\n",
       "      <td>f</td>\n",
       "      <td>3.0</td>\n",
       "      <td>70.0</td>\n",
       "    </tr>\n",
       "  </tbody>\n",
       "</table>\n",
       "</div>"
      ],
      "text/plain": [
       "  first_name last_name   age sex  preTestScore  postTestScore\n",
       "0      Jason    Miller  42.0   m           4.0           25.0\n",
       "1      Jason    Miller  42.0   m           4.0           25.0\n",
       "2       Tina       Ali  36.0   f           4.0           25.0\n",
       "3       Jake    Milner  24.0   m           2.0           62.0\n",
       "4        Amy     Cooze  73.0   f           3.0           70.0"
      ]
     },
     "execution_count": 7,
     "metadata": {},
     "output_type": "execute_result"
    }
   ],
   "source": [
    "## 使用上一个值替代\n",
    "df.fillna(method='ffill')"
   ]
  },
  {
   "cell_type": "code",
   "execution_count": 8,
   "metadata": {},
   "outputs": [
    {
     "data": {
      "text/html": [
       "<div>\n",
       "<style scoped>\n",
       "    .dataframe tbody tr th:only-of-type {\n",
       "        vertical-align: middle;\n",
       "    }\n",
       "\n",
       "    .dataframe tbody tr th {\n",
       "        vertical-align: top;\n",
       "    }\n",
       "\n",
       "    .dataframe thead th {\n",
       "        text-align: right;\n",
       "    }\n",
       "</style>\n",
       "<table border=\"1\" class=\"dataframe\">\n",
       "  <thead>\n",
       "    <tr style=\"text-align: right;\">\n",
       "      <th></th>\n",
       "      <th>first_name</th>\n",
       "      <th>last_name</th>\n",
       "      <th>age</th>\n",
       "      <th>sex</th>\n",
       "      <th>preTestScore</th>\n",
       "      <th>postTestScore</th>\n",
       "    </tr>\n",
       "  </thead>\n",
       "  <tbody>\n",
       "    <tr>\n",
       "      <th>0</th>\n",
       "      <td>Jason</td>\n",
       "      <td>Miller</td>\n",
       "      <td>42.0</td>\n",
       "      <td>m</td>\n",
       "      <td>4.000000</td>\n",
       "      <td>25.000000</td>\n",
       "    </tr>\n",
       "    <tr>\n",
       "      <th>1</th>\n",
       "      <td>NaN</td>\n",
       "      <td>NaN</td>\n",
       "      <td>39.0</td>\n",
       "      <td>NaN</td>\n",
       "      <td>3.333333</td>\n",
       "      <td>37.333333</td>\n",
       "    </tr>\n",
       "    <tr>\n",
       "      <th>2</th>\n",
       "      <td>Tina</td>\n",
       "      <td>Ali</td>\n",
       "      <td>36.0</td>\n",
       "      <td>f</td>\n",
       "      <td>2.666667</td>\n",
       "      <td>49.666667</td>\n",
       "    </tr>\n",
       "    <tr>\n",
       "      <th>3</th>\n",
       "      <td>Jake</td>\n",
       "      <td>Milner</td>\n",
       "      <td>24.0</td>\n",
       "      <td>m</td>\n",
       "      <td>2.000000</td>\n",
       "      <td>62.000000</td>\n",
       "    </tr>\n",
       "    <tr>\n",
       "      <th>4</th>\n",
       "      <td>Amy</td>\n",
       "      <td>Cooze</td>\n",
       "      <td>73.0</td>\n",
       "      <td>f</td>\n",
       "      <td>3.000000</td>\n",
       "      <td>70.000000</td>\n",
       "    </tr>\n",
       "  </tbody>\n",
       "</table>\n",
       "</div>"
      ],
      "text/plain": [
       "  first_name last_name   age  sex  preTestScore  postTestScore\n",
       "0      Jason    Miller  42.0    m      4.000000      25.000000\n",
       "1        NaN       NaN  39.0  NaN      3.333333      37.333333\n",
       "2       Tina       Ali  36.0    f      2.666667      49.666667\n",
       "3       Jake    Milner  24.0    m      2.000000      62.000000\n",
       "4        Amy     Cooze  73.0    f      3.000000      70.000000"
      ]
     },
     "execution_count": 8,
     "metadata": {},
     "output_type": "execute_result"
    }
   ],
   "source": [
    "##使用线性插值法填充\n",
    "df.interpolate()"
   ]
  },
  {
   "cell_type": "markdown",
   "metadata": {},
   "source": [
    "### 1.2 噪声数据\n",
    "噪声（noise）是被测量的变量的随机误差或方差。"
   ]
  },
  {
   "cell_type": "markdown",
   "metadata": {},
   "source": [
    "#### 分箱（binning）\n",
    "分箱通过查考数据的“临近”即周围值来光滑有序数据值。由于分箱方法考察邻近值，因此它进行的是局部光滑。\n",
    "\n",
    "将数据分为$n$个等频的箱中，可以用**箱均值**、**箱中位数**或**箱边界**光滑数据。"
   ]
  },
  {
   "cell_type": "code",
   "execution_count": 9,
   "metadata": {},
   "outputs": [
    {
     "data": {
      "text/plain": [
       "array([15,  4,  8, 21, 28, 21, 24, 25, 34])"
      ]
     },
     "execution_count": 9,
     "metadata": {},
     "output_type": "execute_result"
    }
   ],
   "source": [
    "data_price = np.array([15,4,8,21,28,21,24,25,34])\n",
    "data_price"
   ]
  },
  {
   "cell_type": "code",
   "execution_count": 10,
   "metadata": {},
   "outputs": [
    {
     "data": {
      "text/plain": [
       "array([ 4,  8, 15, 21, 21, 24, 25, 28, 34])"
      ]
     },
     "execution_count": 10,
     "metadata": {},
     "output_type": "execute_result"
    }
   ],
   "source": [
    "## 对数据进行排序\n",
    "data_price.sort()\n",
    "data_price"
   ]
  },
  {
   "cell_type": "code",
   "execution_count": 11,
   "metadata": {},
   "outputs": [
    {
     "data": {
      "text/plain": [
       "array([[ 4,  8, 15],\n",
       "       [21, 21, 24],\n",
       "       [25, 28, 34]])"
      ]
     },
     "execution_count": 11,
     "metadata": {},
     "output_type": "execute_result"
    }
   ],
   "source": [
    "## 将数据进行分箱， 分3个箱\n",
    "data_box = data_price.reshape([3,-1])\n",
    "data_box"
   ]
  },
  {
   "cell_type": "code",
   "execution_count": 12,
   "metadata": {
    "scrolled": true
   },
   "outputs": [
    {
     "data": {
      "text/plain": [
       "array([ 9.,  9.,  9., 22., 22., 22., 29., 29., 29.])"
      ]
     },
     "execution_count": 12,
     "metadata": {},
     "output_type": "execute_result"
    }
   ],
   "source": [
    "## 用箱均值光滑\n",
    "np.repeat(data_box.mean(axis=1), 3)"
   ]
  },
  {
   "cell_type": "code",
   "execution_count": 13,
   "metadata": {},
   "outputs": [
    {
     "data": {
      "text/plain": [
       "array([ 8.,  8.,  8., 21., 21., 21., 28., 28., 28.])"
      ]
     },
     "execution_count": 13,
     "metadata": {},
     "output_type": "execute_result"
    }
   ],
   "source": [
    "## 用箱中位数光滑\n",
    "np.repeat(np.median(data_box, axis=1), 3)"
   ]
  },
  {
   "cell_type": "code",
   "execution_count": 14,
   "metadata": {},
   "outputs": [
    {
     "name": "stderr",
     "output_type": "stream",
     "text": [
      "C:\\ProgramData\\Anaconda3\\lib\\site-packages\\scipy\\stats\\_binned_statistic.py:607: FutureWarning: Using a non-tuple sequence for multidimensional indexing is deprecated; use `arr[tuple(seq)]` instead of `arr[seq]`. In the future this will be interpreted as an array index, `arr[np.array(seq)]`, which will result either in an error or a different result.\n",
      "  result = result[core]\n"
     ]
    },
    {
     "data": {
      "text/plain": [
       "BinnedStatisticResult(statistic=array([1.33333333,        nan, 2.25      ]), bin_edges=array([1., 3., 5., 7.]), binnumber=array([1, 1, 1, 3, 3], dtype=int64))"
      ]
     },
     "execution_count": 14,
     "metadata": {},
     "output_type": "execute_result"
    }
   ],
   "source": [
    "from scipy import stats\n",
    "values = [1.0, 1.0, 2.0, 1.5, 3.0]\n",
    "stats.binned_statistic([1, 1, 2, 5, 7], values, 'mean', bins=3)"
   ]
  },
  {
   "cell_type": "code",
   "execution_count": 15,
   "metadata": {},
   "outputs": [
    {
     "data": {
      "text/plain": [
       "array([15, 15, 15, 24, 24, 24, 34, 34, 34])"
      ]
     },
     "execution_count": 15,
     "metadata": {},
     "output_type": "execute_result"
    }
   ],
   "source": [
    "## 用箱边界光滑\n",
    "np.repeat(data_box.max(axis=1), 3)"
   ]
  },
  {
   "cell_type": "markdown",
   "metadata": {},
   "source": [
    "## 2. 数据规范化"
   ]
  },
  {
   "cell_type": "markdown",
   "metadata": {},
   "source": [
    "### 2.1 最大最小规范化(min-max scaled)\n",
    "假设 $min_A$ 和 $max_{A} $ 分别是属性 $A$ 的最小值和最大值，计算公式如下：\n",
    "\n",
    "$$ v_{i}^{'}  = \\frac{v_i - \\min_A}{\\max_A - \\min_A}(new_{maxA} - new_{minA}) + new_{minA} \\tag{1} $$\n",
    "\n",
    "这样就把 $A$ 的值映射到区间 $[new_{maxA} ,new_{minA}]$ 中的 $v_{i}^{'}$ 中。"
   ]
  },
  {
   "cell_type": "code",
   "execution_count": 16,
   "metadata": {},
   "outputs": [
    {
     "data": {
      "text/plain": [
       "array([[0.5       , 0.        , 1.        ],\n",
       "       [1.        , 0.5       , 0.33333333],\n",
       "       [0.        , 1.        , 0.        ]])"
      ]
     },
     "execution_count": 16,
     "metadata": {},
     "output_type": "execute_result"
    }
   ],
   "source": [
    "## min-max scale\n",
    "from sklearn import preprocessing\n",
    "X_train = np.array([[ 1., -1.,  2.],\n",
    "                   [ 2.,  0.,  0.],\n",
    "                   [ 0.,  1., -1.]])\n",
    "min_max_scaler = preprocessing.MinMaxScaler()\n",
    "X_train_minmax = min_max_scaler.fit_transform(X_train)\n",
    "X_train_minmax"
   ]
  },
  {
   "cell_type": "markdown",
   "metadata": {},
   "source": [
    "### 2.2 Z-score 规范化（零均值规范化）\n",
    "\n",
    "$$ v_{i}^{'}  = \\frac{v_i - \\bar{A}}{\\sigma_A}   \\tag{2} $$\n",
    "\n",
    "通过z-socre规范化，将数值的均值转换成0， 方差转换成1"
   ]
  },
  {
   "cell_type": "code",
   "execution_count": 17,
   "metadata": {},
   "outputs": [
    {
     "data": {
      "text/plain": [
       "array([[ 0.        , -1.22474487,  1.33630621],\n",
       "       [ 1.22474487,  0.        , -0.26726124],\n",
       "       [-1.22474487,  1.22474487, -1.06904497]])"
      ]
     },
     "execution_count": 17,
     "metadata": {},
     "output_type": "execute_result"
    }
   ],
   "source": [
    "X_scaled = preprocessing.scale(X_train)\n",
    "X_scaled"
   ]
  },
  {
   "cell_type": "code",
   "execution_count": 18,
   "metadata": {},
   "outputs": [
    {
     "data": {
      "text/plain": [
       "4.9343245538895844e-17"
      ]
     },
     "execution_count": 18,
     "metadata": {},
     "output_type": "execute_result"
    }
   ],
   "source": [
    "X_scaled.mean()"
   ]
  },
  {
   "cell_type": "code",
   "execution_count": 19,
   "metadata": {},
   "outputs": [
    {
     "data": {
      "text/plain": [
       "1.0"
      ]
     },
     "execution_count": 19,
     "metadata": {},
     "output_type": "execute_result"
    }
   ],
   "source": [
    "X_scaled.var()"
   ]
  },
  {
   "cell_type": "markdown",
   "metadata": {},
   "source": [
    "### 2.3小数定标\n",
    "通过移动属性 $A$的小数点位置来进行规范化:\n",
    "\n",
    "$$ v_{i}^{'}  = \\frac{v_i}{10^j}   \\tag{3} $$\n",
    "\n",
    "其中 $j$ 是使得 $max(\\left|v^{'}_i \\right|) < 1$ 的最小整数"
   ]
  },
  {
   "cell_type": "code",
   "execution_count": 20,
   "metadata": {},
   "outputs": [
    {
     "data": {
      "text/plain": [
       "array([[ 0.1, -0.1,  0.2],\n",
       "       [ 0.2,  0. ,  0. ],\n",
       "       [ 0. ,  0.1, -0.1]])"
      ]
     },
     "execution_count": 20,
     "metadata": {},
     "output_type": "execute_result"
    }
   ],
   "source": [
    "X_train / 10"
   ]
  },
  {
   "cell_type": "markdown",
   "metadata": {},
   "source": [
    "## 3. 主成分分析\n",
    "主成分分析（principal components anaylysis）主要是利用降维的思想，在损失很少信息的前提下减少数据的维度，通常将转化生成的综合指标称为主成分。每个主成分都是原始变量的线性组合，且各个主成分之间互不相关。"
   ]
  },
  {
   "cell_type": "code",
   "execution_count": 21,
   "metadata": {},
   "outputs": [],
   "source": [
    "import pandas as pd\n",
    "import numpy as np\n",
    "import matplotlib.pyplot as plt\n",
    "%matplotlib inline\n",
    "from matplotlib.font_manager import FontProperties\n",
    "plt.rcParams['font.sans-serif'] = ['simhei']"
   ]
  },
  {
   "cell_type": "markdown",
   "metadata": {},
   "source": [
    "### 3.1 评价各省市经济效益"
   ]
  },
  {
   "cell_type": "code",
   "execution_count": 22,
   "metadata": {},
   "outputs": [
    {
     "data": {
      "text/html": [
       "<div>\n",
       "<style scoped>\n",
       "    .dataframe tbody tr th:only-of-type {\n",
       "        vertical-align: middle;\n",
       "    }\n",
       "\n",
       "    .dataframe tbody tr th {\n",
       "        vertical-align: top;\n",
       "    }\n",
       "\n",
       "    .dataframe thead th {\n",
       "        text-align: right;\n",
       "    }\n",
       "</style>\n",
       "<table border=\"1\" class=\"dataframe\">\n",
       "  <thead>\n",
       "    <tr style=\"text-align: right;\">\n",
       "      <th></th>\n",
       "      <th>100固定资产原值实现值（%）</th>\n",
       "      <th>100元固定资产原值实现利税（%）</th>\n",
       "      <th>100元资金实现利税（%）</th>\n",
       "      <th>100元工业总产值实现利税（%）</th>\n",
       "      <th>100元销售收入实现利税（%）</th>\n",
       "      <th>每吨标准煤实现工业产值（元）</th>\n",
       "      <th>每千瓦时电力实现工业产值（元）</th>\n",
       "      <th>全员劳动生产率（元/人.年）</th>\n",
       "      <th>100元流动资金实现产值（元）</th>\n",
       "    </tr>\n",
       "  </thead>\n",
       "  <tbody>\n",
       "    <tr>\n",
       "      <th>北京（1）</th>\n",
       "      <td>119.29</td>\n",
       "      <td>30.98</td>\n",
       "      <td>29.92</td>\n",
       "      <td>25.97</td>\n",
       "      <td>15.48</td>\n",
       "      <td>2178.00</td>\n",
       "      <td>3.41</td>\n",
       "      <td>21006.0</td>\n",
       "      <td>296.7</td>\n",
       "    </tr>\n",
       "    <tr>\n",
       "      <th>天津（2）</th>\n",
       "      <td>143.98</td>\n",
       "      <td>31.59</td>\n",
       "      <td>30.21</td>\n",
       "      <td>21.94</td>\n",
       "      <td>12.29</td>\n",
       "      <td>2852.00</td>\n",
       "      <td>4.29</td>\n",
       "      <td>20254.0</td>\n",
       "      <td>363.1</td>\n",
       "    </tr>\n",
       "    <tr>\n",
       "      <th>河北（3）</th>\n",
       "      <td>94.80</td>\n",
       "      <td>17.20</td>\n",
       "      <td>17.95</td>\n",
       "      <td>18.14</td>\n",
       "      <td>9.37</td>\n",
       "      <td>1167.00</td>\n",
       "      <td>2.03</td>\n",
       "      <td>12607.0</td>\n",
       "      <td>322.2</td>\n",
       "    </tr>\n",
       "    <tr>\n",
       "      <th>山西（4）</th>\n",
       "      <td>65.80</td>\n",
       "      <td>11.08</td>\n",
       "      <td>11.06</td>\n",
       "      <td>12.15</td>\n",
       "      <td>16.84</td>\n",
       "      <td>8.82</td>\n",
       "      <td>1.65</td>\n",
       "      <td>10166.0</td>\n",
       "      <td>284.7</td>\n",
       "    </tr>\n",
       "    <tr>\n",
       "      <th>内蒙（5）</th>\n",
       "      <td>54.79</td>\n",
       "      <td>9.24</td>\n",
       "      <td>9.54</td>\n",
       "      <td>16.86</td>\n",
       "      <td>6.27</td>\n",
       "      <td>894.00</td>\n",
       "      <td>1.80</td>\n",
       "      <td>7564.0</td>\n",
       "      <td>225.4</td>\n",
       "    </tr>\n",
       "  </tbody>\n",
       "</table>\n",
       "</div>"
      ],
      "text/plain": [
       "       100固定资产原值实现值（%）  100元固定资产原值实现利税（%）  100元资金实现利税（%）  100元工业总产值实现利税（%）  \\\n",
       "北京（1）           119.29              30.98          29.92             25.97   \n",
       "天津（2）           143.98              31.59          30.21             21.94   \n",
       "河北（3）            94.80              17.20          17.95             18.14   \n",
       "山西（4）            65.80              11.08          11.06             12.15   \n",
       "内蒙（5）            54.79               9.24           9.54             16.86   \n",
       "\n",
       "       100元销售收入实现利税（%）  每吨标准煤实现工业产值（元）  每千瓦时电力实现工业产值（元）  全员劳动生产率（元/人.年）  \\\n",
       "北京（1）            15.48         2178.00             3.41         21006.0   \n",
       "天津（2）            12.29         2852.00             4.29         20254.0   \n",
       "河北（3）             9.37         1167.00             2.03         12607.0   \n",
       "山西（4）            16.84            8.82             1.65         10166.0   \n",
       "内蒙（5）             6.27          894.00             1.80          7564.0   \n",
       "\n",
       "       100元流动资金实现产值（元）  \n",
       "北京（1）            296.7  \n",
       "天津（2）            363.1  \n",
       "河北（3）            322.2  \n",
       "山西（4）            284.7  \n",
       "内蒙（5）            225.4  "
      ]
     },
     "execution_count": 22,
     "metadata": {},
     "output_type": "execute_result"
    }
   ],
   "source": [
    "data = pd.read_excel('./data/主成分分析.xlsx', sheet_name='5-2', index_col = 0)\n",
    "data.head()"
   ]
  },
  {
   "cell_type": "code",
   "execution_count": 23,
   "metadata": {},
   "outputs": [
    {
     "data": {
      "text/plain": [
       "PCA(copy=True, iterated_power='auto', n_components=9, random_state=None,\n",
       "  svd_solver='auto', tol=0.0, whiten=False)"
      ]
     },
     "execution_count": 23,
     "metadata": {},
     "output_type": "execute_result"
    }
   ],
   "source": [
    "### 标准化\n",
    "X = (data - data.mean()) / data.std()\n",
    "\n",
    "## 导入主成分库，并先选择所有主成分\n",
    "from sklearn.decomposition import PCA\n",
    "pca = PCA(n_components = X.shape[1])\n",
    "## 训练数据\n",
    "pca.fit(X)"
   ]
  },
  {
   "cell_type": "code",
   "execution_count": 24,
   "metadata": {},
   "outputs": [
    {
     "data": {
      "text/html": [
       "<div>\n",
       "<style scoped>\n",
       "    .dataframe tbody tr th:only-of-type {\n",
       "        vertical-align: middle;\n",
       "    }\n",
       "\n",
       "    .dataframe tbody tr th {\n",
       "        vertical-align: top;\n",
       "    }\n",
       "\n",
       "    .dataframe thead th {\n",
       "        text-align: right;\n",
       "    }\n",
       "</style>\n",
       "<table border=\"1\" class=\"dataframe\">\n",
       "  <thead>\n",
       "    <tr style=\"text-align: right;\">\n",
       "      <th></th>\n",
       "      <th>方差</th>\n",
       "      <th>贡献度</th>\n",
       "      <th>累计贡献度</th>\n",
       "    </tr>\n",
       "  </thead>\n",
       "  <tbody>\n",
       "    <tr>\n",
       "      <th>0</th>\n",
       "      <td>6.149885</td>\n",
       "      <td>0.683321</td>\n",
       "      <td>0.683321</td>\n",
       "    </tr>\n",
       "    <tr>\n",
       "      <th>1</th>\n",
       "      <td>1.472892</td>\n",
       "      <td>0.163655</td>\n",
       "      <td>0.846975</td>\n",
       "    </tr>\n",
       "    <tr>\n",
       "      <th>2</th>\n",
       "      <td>0.697420</td>\n",
       "      <td>0.077491</td>\n",
       "      <td>0.924466</td>\n",
       "    </tr>\n",
       "    <tr>\n",
       "      <th>3</th>\n",
       "      <td>0.317825</td>\n",
       "      <td>0.035314</td>\n",
       "      <td>0.959780</td>\n",
       "    </tr>\n",
       "    <tr>\n",
       "      <th>4</th>\n",
       "      <td>0.190044</td>\n",
       "      <td>0.021116</td>\n",
       "      <td>0.980896</td>\n",
       "    </tr>\n",
       "    <tr>\n",
       "      <th>5</th>\n",
       "      <td>0.116045</td>\n",
       "      <td>0.012894</td>\n",
       "      <td>0.993790</td>\n",
       "    </tr>\n",
       "    <tr>\n",
       "      <th>6</th>\n",
       "      <td>0.029118</td>\n",
       "      <td>0.003235</td>\n",
       "      <td>0.997025</td>\n",
       "    </tr>\n",
       "    <tr>\n",
       "      <th>7</th>\n",
       "      <td>0.024324</td>\n",
       "      <td>0.002703</td>\n",
       "      <td>0.999728</td>\n",
       "    </tr>\n",
       "    <tr>\n",
       "      <th>8</th>\n",
       "      <td>0.002448</td>\n",
       "      <td>0.000272</td>\n",
       "      <td>1.000000</td>\n",
       "    </tr>\n",
       "  </tbody>\n",
       "</table>\n",
       "</div>"
      ],
      "text/plain": [
       "         方差       贡献度     累计贡献度\n",
       "0  6.149885  0.683321  0.683321\n",
       "1  1.472892  0.163655  0.846975\n",
       "2  0.697420  0.077491  0.924466\n",
       "3  0.317825  0.035314  0.959780\n",
       "4  0.190044  0.021116  0.980896\n",
       "5  0.116045  0.012894  0.993790\n",
       "6  0.029118  0.003235  0.997025\n",
       "7  0.024324  0.002703  0.999728\n",
       "8  0.002448  0.000272  1.000000"
      ]
     },
     "execution_count": 24,
     "metadata": {},
     "output_type": "execute_result"
    }
   ],
   "source": [
    "## 展示方差解释力度\n",
    "pd.DataFrame({'方差': pca.explained_variance_,\n",
    "              '贡献度':pca.explained_variance_ratio_,\n",
    "             '累计贡献度':pca.explained_variance_ratio_.cumsum()})"
   ]
  },
  {
   "cell_type": "code",
   "execution_count": 25,
   "metadata": {},
   "outputs": [
    {
     "data": {
      "image/png": "[encoded data removed]",
      "text/plain": [
       "<Figure size 432x288 with 1 Axes>"
      ]
     },
     "metadata": {
      "needs_background": "light"
     },
     "output_type": "display_data"
    }
   ],
   "source": [
    "plt.bar(range(9), pca.explained_variance_ratio_)\n",
    "plt.title('贡献度');"
   ]
  },
  {
   "cell_type": "code",
   "execution_count": 26,
   "metadata": {},
   "outputs": [
    {
     "data": {
      "text/plain": [
       "PCA(copy=True, iterated_power='auto', n_components=2, random_state=None,\n",
       "  svd_solver='auto', tol=0.0, whiten=False)"
      ]
     },
     "execution_count": 26,
     "metadata": {},
     "output_type": "execute_result"
    }
   ],
   "source": [
    "## 选择前两个作为主成分\n",
    "pca.n_components = 2\n",
    "pca.fit(X)"
   ]
  },
  {
   "cell_type": "code",
   "execution_count": 27,
   "metadata": {},
   "outputs": [
    {
     "data": {
      "text/html": [
       "<div>\n",
       "<style scoped>\n",
       "    .dataframe tbody tr th:only-of-type {\n",
       "        vertical-align: middle;\n",
       "    }\n",
       "\n",
       "    .dataframe tbody tr th {\n",
       "        vertical-align: top;\n",
       "    }\n",
       "\n",
       "    .dataframe thead th {\n",
       "        text-align: right;\n",
       "    }\n",
       "</style>\n",
       "<table border=\"1\" class=\"dataframe\">\n",
       "  <thead>\n",
       "    <tr style=\"text-align: right;\">\n",
       "      <th></th>\n",
       "      <th>100固定资产原值实现值（%）</th>\n",
       "      <th>100元固定资产原值实现利税（%）</th>\n",
       "      <th>100元资金实现利税（%）</th>\n",
       "      <th>100元工业总产值实现利税（%）</th>\n",
       "      <th>100元销售收入实现利税（%）</th>\n",
       "      <th>每吨标准煤实现工业产值（元）</th>\n",
       "      <th>每千瓦时电力实现工业产值（元）</th>\n",
       "      <th>全员劳动生产率（元/人.年）</th>\n",
       "      <th>100元流动资金实现产值（元）</th>\n",
       "    </tr>\n",
       "  </thead>\n",
       "  <tbody>\n",
       "    <tr>\n",
       "      <th>0</th>\n",
       "      <td>0.375559</td>\n",
       "      <td>0.393396</td>\n",
       "      <td>0.375256</td>\n",
       "      <td>0.093534</td>\n",
       "      <td>0.174559</td>\n",
       "      <td>0.372149</td>\n",
       "      <td>0.361616</td>\n",
       "      <td>0.351316</td>\n",
       "      <td>0.362594</td>\n",
       "    </tr>\n",
       "    <tr>\n",
       "      <th>1</th>\n",
       "      <td>0.259512</td>\n",
       "      <td>-0.134374</td>\n",
       "      <td>-0.265294</td>\n",
       "      <td>-0.711329</td>\n",
       "      <td>-0.491327</td>\n",
       "      <td>0.164956</td>\n",
       "      <td>0.225403</td>\n",
       "      <td>0.052364</td>\n",
       "      <td>0.126751</td>\n",
       "    </tr>\n",
       "  </tbody>\n",
       "</table>\n",
       "</div>"
      ],
      "text/plain": [
       "   100固定资产原值实现值（%）  100元固定资产原值实现利税（%）  100元资金实现利税（%）  100元工业总产值实现利税（%）  \\\n",
       "0         0.375559           0.393396       0.375256          0.093534   \n",
       "1         0.259512          -0.134374      -0.265294         -0.711329   \n",
       "\n",
       "   100元销售收入实现利税（%）  每吨标准煤实现工业产值（元）  每千瓦时电力实现工业产值（元）  全员劳动生产率（元/人.年）  \\\n",
       "0         0.174559        0.372149         0.361616        0.351316   \n",
       "1        -0.491327        0.164956         0.225403        0.052364   \n",
       "\n",
       "   100元流动资金实现产值（元）  \n",
       "0         0.362594  \n",
       "1         0.126751  "
      ]
     },
     "execution_count": 27,
     "metadata": {},
     "output_type": "execute_result"
    }
   ],
   "source": [
    "## 主成分系数：\n",
    "pd.DataFrame(pca.components_, columns=data.columns)"
   ]
  },
  {
   "cell_type": "code",
   "execution_count": 28,
   "metadata": {},
   "outputs": [
    {
     "data": {
      "text/html": [
       "<div>\n",
       "<style scoped>\n",
       "    .dataframe tbody tr th:only-of-type {\n",
       "        vertical-align: middle;\n",
       "    }\n",
       "\n",
       "    .dataframe tbody tr th {\n",
       "        vertical-align: top;\n",
       "    }\n",
       "\n",
       "    .dataframe thead th {\n",
       "        text-align: right;\n",
       "    }\n",
       "</style>\n",
       "<table border=\"1\" class=\"dataframe\">\n",
       "  <thead>\n",
       "    <tr style=\"text-align: right;\">\n",
       "      <th></th>\n",
       "      <th>0</th>\n",
       "      <th>1</th>\n",
       "    </tr>\n",
       "  </thead>\n",
       "  <tbody>\n",
       "    <tr>\n",
       "      <th>北京（1）</th>\n",
       "      <td>2.816238</td>\n",
       "      <td>-2.425742</td>\n",
       "    </tr>\n",
       "    <tr>\n",
       "      <th>天津（2）</th>\n",
       "      <td>3.735832</td>\n",
       "      <td>-0.536483</td>\n",
       "    </tr>\n",
       "    <tr>\n",
       "      <th>河北（3）</th>\n",
       "      <td>-0.486831</td>\n",
       "      <td>0.097747</td>\n",
       "    </tr>\n",
       "    <tr>\n",
       "      <th>山西（4）</th>\n",
       "      <td>-2.021997</td>\n",
       "      <td>-0.384570</td>\n",
       "    </tr>\n",
       "    <tr>\n",
       "      <th>内蒙（5）</th>\n",
       "      <td>-2.976298</td>\n",
       "      <td>0.732496</td>\n",
       "    </tr>\n",
       "    <tr>\n",
       "      <th>辽宁（6）</th>\n",
       "      <td>-0.418013</td>\n",
       "      <td>-1.267647</td>\n",
       "    </tr>\n",
       "    <tr>\n",
       "      <th>吉林（7）</th>\n",
       "      <td>-1.613553</td>\n",
       "      <td>0.809633</td>\n",
       "    </tr>\n",
       "    <tr>\n",
       "      <th>黑龙江（8）</th>\n",
       "      <td>-1.041542</td>\n",
       "      <td>-0.692269</td>\n",
       "    </tr>\n",
       "    <tr>\n",
       "      <th>上海（9）</th>\n",
       "      <td>7.037722</td>\n",
       "      <td>-1.378583</td>\n",
       "    </tr>\n",
       "    <tr>\n",
       "      <th>江苏（10）</th>\n",
       "      <td>3.944277</td>\n",
       "      <td>2.806737</td>\n",
       "    </tr>\n",
       "    <tr>\n",
       "      <th>浙江（11）</th>\n",
       "      <td>4.368433</td>\n",
       "      <td>1.821378</td>\n",
       "    </tr>\n",
       "    <tr>\n",
       "      <th>安徽（12）</th>\n",
       "      <td>0.072254</td>\n",
       "      <td>0.598317</td>\n",
       "    </tr>\n",
       "    <tr>\n",
       "      <th>福建（13）</th>\n",
       "      <td>0.512411</td>\n",
       "      <td>0.523114</td>\n",
       "    </tr>\n",
       "    <tr>\n",
       "      <th>江西（14）</th>\n",
       "      <td>-1.189847</td>\n",
       "      <td>1.252905</td>\n",
       "    </tr>\n",
       "    <tr>\n",
       "      <th>山东（15）</th>\n",
       "      <td>0.984385</td>\n",
       "      <td>0.362785</td>\n",
       "    </tr>\n",
       "    <tr>\n",
       "      <th>河南（16）</th>\n",
       "      <td>-1.027543</td>\n",
       "      <td>-0.097753</td>\n",
       "    </tr>\n",
       "    <tr>\n",
       "      <th>湖北（17）</th>\n",
       "      <td>0.354850</td>\n",
       "      <td>0.300261</td>\n",
       "    </tr>\n",
       "    <tr>\n",
       "      <th>湖南（18）</th>\n",
       "      <td>-0.043535</td>\n",
       "      <td>-0.387656</td>\n",
       "    </tr>\n",
       "    <tr>\n",
       "      <th>广东（19）</th>\n",
       "      <td>1.818933</td>\n",
       "      <td>1.314736</td>\n",
       "    </tr>\n",
       "    <tr>\n",
       "      <th>广西（20）</th>\n",
       "      <td>0.137498</td>\n",
       "      <td>-0.718905</td>\n",
       "    </tr>\n",
       "    <tr>\n",
       "      <th>四川（21）</th>\n",
       "      <td>-1.409932</td>\n",
       "      <td>0.610274</td>\n",
       "    </tr>\n",
       "    <tr>\n",
       "      <th>贵州（22）</th>\n",
       "      <td>-2.244185</td>\n",
       "      <td>-1.318495</td>\n",
       "    </tr>\n",
       "    <tr>\n",
       "      <th>云南（23）</th>\n",
       "      <td>-0.021153</td>\n",
       "      <td>-2.400205</td>\n",
       "    </tr>\n",
       "    <tr>\n",
       "      <th>陕西（24）</th>\n",
       "      <td>-1.624190</td>\n",
       "      <td>0.406118</td>\n",
       "    </tr>\n",
       "    <tr>\n",
       "      <th>甘肃（25）</th>\n",
       "      <td>-1.645072</td>\n",
       "      <td>-1.748610</td>\n",
       "    </tr>\n",
       "    <tr>\n",
       "      <th>青海（26）</th>\n",
       "      <td>-3.408246</td>\n",
       "      <td>0.592531</td>\n",
       "    </tr>\n",
       "    <tr>\n",
       "      <th>宁夏（27）</th>\n",
       "      <td>-3.068127</td>\n",
       "      <td>0.842123</td>\n",
       "    </tr>\n",
       "    <tr>\n",
       "      <th>新疆（28）</th>\n",
       "      <td>-1.542768</td>\n",
       "      <td>0.285762</td>\n",
       "    </tr>\n",
       "  </tbody>\n",
       "</table>\n",
       "</div>"
      ],
      "text/plain": [
       "               0         1\n",
       "北京（1）   2.816238 -2.425742\n",
       "天津（2）   3.735832 -0.536483\n",
       "河北（3）  -0.486831  0.097747\n",
       "山西（4）  -2.021997 -0.384570\n",
       "内蒙（5）  -2.976298  0.732496\n",
       "辽宁（6）  -0.418013 -1.267647\n",
       "吉林（7）  -1.613553  0.809633\n",
       "黑龙江（8） -1.041542 -0.692269\n",
       "上海（9）   7.037722 -1.378583\n",
       "江苏（10）  3.944277  2.806737\n",
       "浙江（11）  4.368433  1.821378\n",
       "安徽（12）  0.072254  0.598317\n",
       "福建（13）  0.512411  0.523114\n",
       "江西（14） -1.189847  1.252905\n",
       "山东（15）  0.984385  0.362785\n",
       "河南（16） -1.027543 -0.097753\n",
       "湖北（17）  0.354850  0.300261\n",
       "湖南（18） -0.043535 -0.387656\n",
       "广东（19）  1.818933  1.314736\n",
       "广西（20）  0.137498 -0.718905\n",
       "四川（21） -1.409932  0.610274\n",
       "贵州（22） -2.244185 -1.318495\n",
       "云南（23） -0.021153 -2.400205\n",
       "陕西（24） -1.624190  0.406118\n",
       "甘肃（25） -1.645072 -1.748610\n",
       "青海（26） -3.408246  0.592531\n",
       "宁夏（27） -3.068127  0.842123\n",
       "新疆（28） -1.542768  0.285762"
      ]
     },
     "execution_count": 28,
     "metadata": {},
     "output_type": "execute_result"
    }
   ],
   "source": [
    "## 主成分\n",
    "y = pd.DataFrame(pca.transform(X), index=data.index)\n",
    "y"
   ]
  },
  {
   "cell_type": "code",
   "execution_count": 29,
   "metadata": {},
   "outputs": [
    {
     "data": {
      "image/png": "[encoded data removed]",
      "text/plain": [
       "<Figure size 1100x500 with 1 Axes>"
      ]
     },
     "metadata": {
      "needs_background": "light"
     },
     "output_type": "display_data"
    }
   ],
   "source": [
    "plt.figure(dpi=100, figsize=(11,5))\n",
    "ax = plt.subplot(111)\n",
    "y.plot.scatter(0,1, ax=ax, alpha=1)\n",
    "\n",
    "for i in range(y.shape[0]):\n",
    "    ax.annotate(data.index[i], (y.iloc[i,0], y.iloc[i,1]),alpha=0.7)"
   ]
  },
  {
   "cell_type": "markdown",
   "metadata": {},
   "source": [
    "### 3.2 水泥企业经济效益综合评价"
   ]
  },
  {
   "cell_type": "code",
   "execution_count": 30,
   "metadata": {},
   "outputs": [
    {
     "data": {
      "text/html": [
       "<div>\n",
       "<style scoped>\n",
       "    .dataframe tbody tr th:only-of-type {\n",
       "        vertical-align: middle;\n",
       "    }\n",
       "\n",
       "    .dataframe tbody tr th {\n",
       "        vertical-align: top;\n",
       "    }\n",
       "\n",
       "    .dataframe thead th {\n",
       "        text-align: right;\n",
       "    }\n",
       "</style>\n",
       "<table border=\"1\" class=\"dataframe\">\n",
       "  <thead>\n",
       "    <tr style=\"text-align: right;\">\n",
       "      <th></th>\n",
       "      <th>固定资产利税率</th>\n",
       "      <th>资金利税率</th>\n",
       "      <th>销售收入利税率</th>\n",
       "      <th>资金利润率</th>\n",
       "      <th>固定资产产值率</th>\n",
       "      <th>流动资金周转天数</th>\n",
       "      <th>万元产值能耗</th>\n",
       "      <th>全员劳动生产率</th>\n",
       "    </tr>\n",
       "    <tr>\n",
       "      <th>厂家编号及指标</th>\n",
       "      <th></th>\n",
       "      <th></th>\n",
       "      <th></th>\n",
       "      <th></th>\n",
       "      <th></th>\n",
       "      <th></th>\n",
       "      <th></th>\n",
       "      <th></th>\n",
       "    </tr>\n",
       "  </thead>\n",
       "  <tbody>\n",
       "    <tr>\n",
       "      <th>琉璃河</th>\n",
       "      <td>16.68</td>\n",
       "      <td>26.75</td>\n",
       "      <td>31.84</td>\n",
       "      <td>18.40</td>\n",
       "      <td>53.25</td>\n",
       "      <td>0.018182</td>\n",
       "      <td>0.034686</td>\n",
       "      <td>1.75</td>\n",
       "    </tr>\n",
       "    <tr>\n",
       "      <th>邯郸</th>\n",
       "      <td>19.70</td>\n",
       "      <td>27.56</td>\n",
       "      <td>32.94</td>\n",
       "      <td>19.20</td>\n",
       "      <td>59.82</td>\n",
       "      <td>0.018182</td>\n",
       "      <td>0.030377</td>\n",
       "      <td>2.87</td>\n",
       "    </tr>\n",
       "    <tr>\n",
       "      <th>大同</th>\n",
       "      <td>15.20</td>\n",
       "      <td>23.40</td>\n",
       "      <td>32.98</td>\n",
       "      <td>16.24</td>\n",
       "      <td>46.78</td>\n",
       "      <td>0.015385</td>\n",
       "      <td>0.023987</td>\n",
       "      <td>1.53</td>\n",
       "    </tr>\n",
       "    <tr>\n",
       "      <th>哈尔滨</th>\n",
       "      <td>7.29</td>\n",
       "      <td>8.97</td>\n",
       "      <td>21.30</td>\n",
       "      <td>4.76</td>\n",
       "      <td>34.39</td>\n",
       "      <td>0.016129</td>\n",
       "      <td>0.025458</td>\n",
       "      <td>1.63</td>\n",
       "    </tr>\n",
       "    <tr>\n",
       "      <th>华新</th>\n",
       "      <td>29.45</td>\n",
       "      <td>56.49</td>\n",
       "      <td>40.74</td>\n",
       "      <td>43.68</td>\n",
       "      <td>75.32</td>\n",
       "      <td>0.014493</td>\n",
       "      <td>0.037481</td>\n",
       "      <td>2.14</td>\n",
       "    </tr>\n",
       "  </tbody>\n",
       "</table>\n",
       "</div>"
      ],
      "text/plain": [
       "         固定资产利税率  资金利税率  销售收入利税率  资金利润率  固定资产产值率  流动资金周转天数    万元产值能耗  全员劳动生产率\n",
       "厂家编号及指标                                                                      \n",
       "琉璃河        16.68  26.75    31.84  18.40    53.25  0.018182  0.034686     1.75\n",
       "邯郸         19.70  27.56    32.94  19.20    59.82  0.018182  0.030377     2.87\n",
       "大同         15.20  23.40    32.98  16.24    46.78  0.015385  0.023987     1.53\n",
       "哈尔滨         7.29   8.97    21.30   4.76    34.39  0.016129  0.025458     1.63\n",
       "华新         29.45  56.49    40.74  43.68    75.32  0.014493  0.037481     2.14"
      ]
     },
     "execution_count": 30,
     "metadata": {},
     "output_type": "execute_result"
    }
   ],
   "source": [
    "data_2 = pd.read_excel('./data/主成分分析.xlsx', sheet_name='5-3', index_col = 0)\n",
    "data_2.set_index('厂家编号及指标', inplace=True)\n",
    "## 将 '流动资金周转天数' 和 '万元产值能耗' 取倒数\n",
    "data_2['流动资金周转天数'] = 1 / data_2['流动资金周转天数']\n",
    "data_2['万元产值能耗'] = 1 / data_2['万元产值能耗']\n",
    "data_2.head()"
   ]
  },
  {
   "cell_type": "code",
   "execution_count": 31,
   "metadata": {},
   "outputs": [
    {
     "data": {
      "text/html": [
       "<div>\n",
       "<style scoped>\n",
       "    .dataframe tbody tr th:only-of-type {\n",
       "        vertical-align: middle;\n",
       "    }\n",
       "\n",
       "    .dataframe tbody tr th {\n",
       "        vertical-align: top;\n",
       "    }\n",
       "\n",
       "    .dataframe thead th {\n",
       "        text-align: right;\n",
       "    }\n",
       "</style>\n",
       "<table border=\"1\" class=\"dataframe\">\n",
       "  <thead>\n",
       "    <tr style=\"text-align: right;\">\n",
       "      <th></th>\n",
       "      <th>固定资产利税率</th>\n",
       "      <th>资金利税率</th>\n",
       "      <th>销售收入利税率</th>\n",
       "      <th>资金利润率</th>\n",
       "      <th>固定资产产值率</th>\n",
       "      <th>流动资金周转天数</th>\n",
       "      <th>万元产值能耗</th>\n",
       "      <th>全员劳动生产率</th>\n",
       "    </tr>\n",
       "    <tr>\n",
       "      <th>厂家编号及指标</th>\n",
       "      <th></th>\n",
       "      <th></th>\n",
       "      <th></th>\n",
       "      <th></th>\n",
       "      <th></th>\n",
       "      <th></th>\n",
       "      <th></th>\n",
       "      <th></th>\n",
       "    </tr>\n",
       "  </thead>\n",
       "  <tbody>\n",
       "    <tr>\n",
       "      <th>琉璃河</th>\n",
       "      <td>-0.376748</td>\n",
       "      <td>-0.357946</td>\n",
       "      <td>-0.113559</td>\n",
       "      <td>-0.366694</td>\n",
       "      <td>-0.038794</td>\n",
       "      <td>1.193347</td>\n",
       "      <td>1.426821</td>\n",
       "      <td>-0.277122</td>\n",
       "    </tr>\n",
       "    <tr>\n",
       "      <th>邯郸</th>\n",
       "      <td>0.088158</td>\n",
       "      <td>-0.293876</td>\n",
       "      <td>0.050803</td>\n",
       "      <td>-0.287323</td>\n",
       "      <td>0.356157</td>\n",
       "      <td>1.193347</td>\n",
       "      <td>0.289035</td>\n",
       "      <td>2.253119</td>\n",
       "    </tr>\n",
       "    <tr>\n",
       "      <th>大同</th>\n",
       "      <td>-0.604583</td>\n",
       "      <td>-0.622925</td>\n",
       "      <td>0.056779</td>\n",
       "      <td>-0.580995</td>\n",
       "      <td>-0.427733</td>\n",
       "      <td>-0.373281</td>\n",
       "      <td>-1.398099</td>\n",
       "      <td>-0.774133</td>\n",
       "    </tr>\n",
       "    <tr>\n",
       "      <th>哈尔滨</th>\n",
       "      <td>-1.822267</td>\n",
       "      <td>-1.764312</td>\n",
       "      <td>-1.688443</td>\n",
       "      <td>-1.719968</td>\n",
       "      <td>-1.172548</td>\n",
       "      <td>0.043644</td>\n",
       "      <td>-1.009542</td>\n",
       "      <td>-0.548219</td>\n",
       "    </tr>\n",
       "    <tr>\n",
       "      <th>华新</th>\n",
       "      <td>1.589096</td>\n",
       "      <td>1.994436</td>\n",
       "      <td>1.216277</td>\n",
       "      <td>2.141428</td>\n",
       "      <td>1.287927</td>\n",
       "      <td>-0.872786</td>\n",
       "      <td>2.164810</td>\n",
       "      <td>0.603944</td>\n",
       "    </tr>\n",
       "  </tbody>\n",
       "</table>\n",
       "</div>"
      ],
      "text/plain": [
       "          固定资产利税率     资金利税率   销售收入利税率     资金利润率   固定资产产值率  流动资金周转天数    万元产值能耗  \\\n",
       "厂家编号及指标                                                                         \n",
       "琉璃河     -0.376748 -0.357946 -0.113559 -0.366694 -0.038794  1.193347  1.426821   \n",
       "邯郸       0.088158 -0.293876  0.050803 -0.287323  0.356157  1.193347  0.289035   \n",
       "大同      -0.604583 -0.622925  0.056779 -0.580995 -0.427733 -0.373281 -1.398099   \n",
       "哈尔滨     -1.822267 -1.764312 -1.688443 -1.719968 -1.172548  0.043644 -1.009542   \n",
       "华新       1.589096  1.994436  1.216277  2.141428  1.287927 -0.872786  2.164810   \n",
       "\n",
       "          全员劳动生产率  \n",
       "厂家编号及指标            \n",
       "琉璃河     -0.277122  \n",
       "邯郸       2.253119  \n",
       "大同      -0.774133  \n",
       "哈尔滨     -0.548219  \n",
       "华新       0.603944  "
      ]
     },
     "execution_count": 31,
     "metadata": {},
     "output_type": "execute_result"
    }
   ],
   "source": [
    "## 标准化 \n",
    "X_2 = (data_2 - data_2.mean()) / data_2.std()\n",
    "X_2.head()"
   ]
  },
  {
   "cell_type": "code",
   "execution_count": 32,
   "metadata": {},
   "outputs": [
    {
     "data": {
      "text/plain": [
       "PCA(copy=True, iterated_power='auto', n_components=8, random_state=None,\n",
       "  svd_solver='auto', tol=0.0, whiten=False)"
      ]
     },
     "execution_count": 32,
     "metadata": {},
     "output_type": "execute_result"
    }
   ],
   "source": [
    "## 主成分分析\n",
    "pca_2 = PCA(n_components=X_2.shape[1])\n",
    "pca_2.fit(X_2)"
   ]
  },
  {
   "cell_type": "code",
   "execution_count": 33,
   "metadata": {},
   "outputs": [
    {
     "data": {
      "text/html": [
       "<div>\n",
       "<style scoped>\n",
       "    .dataframe tbody tr th:only-of-type {\n",
       "        vertical-align: middle;\n",
       "    }\n",
       "\n",
       "    .dataframe tbody tr th {\n",
       "        vertical-align: top;\n",
       "    }\n",
       "\n",
       "    .dataframe thead th {\n",
       "        text-align: right;\n",
       "    }\n",
       "</style>\n",
       "<table border=\"1\" class=\"dataframe\">\n",
       "  <thead>\n",
       "    <tr style=\"text-align: right;\">\n",
       "      <th></th>\n",
       "      <th>方差</th>\n",
       "      <th>贡献度</th>\n",
       "      <th>累计贡献度</th>\n",
       "    </tr>\n",
       "  </thead>\n",
       "  <tbody>\n",
       "    <tr>\n",
       "      <th>0</th>\n",
       "      <td>4.860635</td>\n",
       "      <td>0.607579</td>\n",
       "      <td>0.607579</td>\n",
       "    </tr>\n",
       "    <tr>\n",
       "      <th>1</th>\n",
       "      <td>1.269174</td>\n",
       "      <td>0.158647</td>\n",
       "      <td>0.766226</td>\n",
       "    </tr>\n",
       "    <tr>\n",
       "      <th>2</th>\n",
       "      <td>0.837004</td>\n",
       "      <td>0.104626</td>\n",
       "      <td>0.870852</td>\n",
       "    </tr>\n",
       "    <tr>\n",
       "      <th>3</th>\n",
       "      <td>0.517097</td>\n",
       "      <td>0.064637</td>\n",
       "      <td>0.935489</td>\n",
       "    </tr>\n",
       "    <tr>\n",
       "      <th>4</th>\n",
       "      <td>0.378175</td>\n",
       "      <td>0.047272</td>\n",
       "      <td>0.982761</td>\n",
       "    </tr>\n",
       "    <tr>\n",
       "      <th>5</th>\n",
       "      <td>0.115468</td>\n",
       "      <td>0.014434</td>\n",
       "      <td>0.997194</td>\n",
       "    </tr>\n",
       "    <tr>\n",
       "      <th>6</th>\n",
       "      <td>0.021128</td>\n",
       "      <td>0.002641</td>\n",
       "      <td>0.999835</td>\n",
       "    </tr>\n",
       "    <tr>\n",
       "      <th>7</th>\n",
       "      <td>0.001318</td>\n",
       "      <td>0.000165</td>\n",
       "      <td>1.000000</td>\n",
       "    </tr>\n",
       "  </tbody>\n",
       "</table>\n",
       "</div>"
      ],
      "text/plain": [
       "         方差       贡献度     累计贡献度\n",
       "0  4.860635  0.607579  0.607579\n",
       "1  1.269174  0.158647  0.766226\n",
       "2  0.837004  0.104626  0.870852\n",
       "3  0.517097  0.064637  0.935489\n",
       "4  0.378175  0.047272  0.982761\n",
       "5  0.115468  0.014434  0.997194\n",
       "6  0.021128  0.002641  0.999835\n",
       "7  0.001318  0.000165  1.000000"
      ]
     },
     "execution_count": 33,
     "metadata": {},
     "output_type": "execute_result"
    }
   ],
   "source": [
    "## 展示方差解释力度\n",
    "pd.DataFrame({'方差': pca_2.explained_variance_,\n",
    "              '贡献度':pca_2.explained_variance_ratio_,\n",
    "             '累计贡献度':pca_2.explained_variance_ratio_.cumsum()})"
   ]
  },
  {
   "cell_type": "code",
   "execution_count": 34,
   "metadata": {},
   "outputs": [
    {
     "data": {
      "text/html": [
       "<div>\n",
       "<style scoped>\n",
       "    .dataframe tbody tr th:only-of-type {\n",
       "        vertical-align: middle;\n",
       "    }\n",
       "\n",
       "    .dataframe tbody tr th {\n",
       "        vertical-align: top;\n",
       "    }\n",
       "\n",
       "    .dataframe thead th {\n",
       "        text-align: right;\n",
       "    }\n",
       "</style>\n",
       "<table border=\"1\" class=\"dataframe\">\n",
       "  <thead>\n",
       "    <tr style=\"text-align: right;\">\n",
       "      <th></th>\n",
       "      <th>固定资产利税率</th>\n",
       "      <th>资金利税率</th>\n",
       "      <th>销售收入利税率</th>\n",
       "      <th>资金利润率</th>\n",
       "      <th>固定资产产值率</th>\n",
       "      <th>流动资金周转天数</th>\n",
       "      <th>万元产值能耗</th>\n",
       "      <th>全员劳动生产率</th>\n",
       "    </tr>\n",
       "  </thead>\n",
       "  <tbody>\n",
       "    <tr>\n",
       "      <th>0</th>\n",
       "      <td>0.434067</td>\n",
       "      <td>0.407766</td>\n",
       "      <td>0.390911</td>\n",
       "      <td>0.420727</td>\n",
       "      <td>0.356854</td>\n",
       "      <td>0.191631</td>\n",
       "      <td>0.290517</td>\n",
       "      <td>0.258889</td>\n",
       "    </tr>\n",
       "    <tr>\n",
       "      <th>1</th>\n",
       "      <td>-0.016487</td>\n",
       "      <td>-0.351123</td>\n",
       "      <td>0.072241</td>\n",
       "      <td>-0.311078</td>\n",
       "      <td>0.000221</td>\n",
       "      <td>0.686453</td>\n",
       "      <td>-0.069141</td>\n",
       "      <td>0.546310</td>\n",
       "    </tr>\n",
       "    <tr>\n",
       "      <th>2</th>\n",
       "      <td>-0.261567</td>\n",
       "      <td>0.040663</td>\n",
       "      <td>-0.369589</td>\n",
       "      <td>-0.041125</td>\n",
       "      <td>0.198903</td>\n",
       "      <td>0.377485</td>\n",
       "      <td>0.701934</td>\n",
       "      <td>-0.341867</td>\n",
       "    </tr>\n",
       "  </tbody>\n",
       "</table>\n",
       "</div>"
      ],
      "text/plain": [
       "    固定资产利税率     资金利税率   销售收入利税率     资金利润率   固定资产产值率  流动资金周转天数    万元产值能耗  \\\n",
       "0  0.434067  0.407766  0.390911  0.420727  0.356854  0.191631  0.290517   \n",
       "1 -0.016487 -0.351123  0.072241 -0.311078  0.000221  0.686453 -0.069141   \n",
       "2 -0.261567  0.040663 -0.369589 -0.041125  0.198903  0.377485  0.701934   \n",
       "\n",
       "    全员劳动生产率  \n",
       "0  0.258889  \n",
       "1  0.546310  \n",
       "2 -0.341867  "
      ]
     },
     "execution_count": 34,
     "metadata": {},
     "output_type": "execute_result"
    }
   ],
   "source": [
    "## 选择前3个主成分\n",
    "pca_2.n_components = 3\n",
    "pca_2.fit(X_2)\n",
    "\n",
    "## 主成分系数矩阵\n",
    "pd.DataFrame(pca_2.components_, columns = data_2.columns)"
   ]
  },
  {
   "cell_type": "code",
   "execution_count": 35,
   "metadata": {},
   "outputs": [
    {
     "data": {
      "text/html": [
       "<div>\n",
       "<style scoped>\n",
       "    .dataframe tbody tr th:only-of-type {\n",
       "        vertical-align: middle;\n",
       "    }\n",
       "\n",
       "    .dataframe tbody tr th {\n",
       "        vertical-align: top;\n",
       "    }\n",
       "\n",
       "    .dataframe thead th {\n",
       "        text-align: right;\n",
       "    }\n",
       "</style>\n",
       "<table border=\"1\" class=\"dataframe\">\n",
       "  <thead>\n",
       "    <tr style=\"text-align: right;\">\n",
       "      <th></th>\n",
       "      <th>y1</th>\n",
       "      <th>名次</th>\n",
       "    </tr>\n",
       "    <tr>\n",
       "      <th>厂家编号及指标</th>\n",
       "      <th></th>\n",
       "      <th></th>\n",
       "    </tr>\n",
       "  </thead>\n",
       "  <tbody>\n",
       "    <tr>\n",
       "      <th>琉璃河</th>\n",
       "      <td>0.049449</td>\n",
       "      <td>7</td>\n",
       "    </tr>\n",
       "    <tr>\n",
       "      <th>邯郸</th>\n",
       "      <td>0.840463</td>\n",
       "      <td>5</td>\n",
       "    </tr>\n",
       "    <tr>\n",
       "      <th>大同</th>\n",
       "      <td>-1.569438</td>\n",
       "      <td>12</td>\n",
       "    </tr>\n",
       "    <tr>\n",
       "      <th>哈尔滨</th>\n",
       "      <td>-3.739361</td>\n",
       "      <td>15</td>\n",
       "    </tr>\n",
       "    <tr>\n",
       "      <th>华新</th>\n",
       "      <td>3.957065</td>\n",
       "      <td>1</td>\n",
       "    </tr>\n",
       "    <tr>\n",
       "      <th>湘乡</th>\n",
       "      <td>3.889455</td>\n",
       "      <td>2</td>\n",
       "    </tr>\n",
       "    <tr>\n",
       "      <th>柳州</th>\n",
       "      <td>1.611045</td>\n",
       "      <td>4</td>\n",
       "    </tr>\n",
       "    <tr>\n",
       "      <th>峨嵋</th>\n",
       "      <td>-2.804575</td>\n",
       "      <td>14</td>\n",
       "    </tr>\n",
       "    <tr>\n",
       "      <th>耀县</th>\n",
       "      <td>-0.474240</td>\n",
       "      <td>9</td>\n",
       "    </tr>\n",
       "    <tr>\n",
       "      <th>永登</th>\n",
       "      <td>0.663090</td>\n",
       "      <td>6</td>\n",
       "    </tr>\n",
       "    <tr>\n",
       "      <th>工源</th>\n",
       "      <td>-0.269528</td>\n",
       "      <td>8</td>\n",
       "    </tr>\n",
       "    <tr>\n",
       "      <th>抚顺</th>\n",
       "      <td>-0.752096</td>\n",
       "      <td>10</td>\n",
       "    </tr>\n",
       "    <tr>\n",
       "      <th>大连</th>\n",
       "      <td>-1.066534</td>\n",
       "      <td>11</td>\n",
       "    </tr>\n",
       "    <tr>\n",
       "      <th>江南</th>\n",
       "      <td>1.723416</td>\n",
       "      <td>3</td>\n",
       "    </tr>\n",
       "    <tr>\n",
       "      <th>江油</th>\n",
       "      <td>-2.058212</td>\n",
       "      <td>13</td>\n",
       "    </tr>\n",
       "  </tbody>\n",
       "</table>\n",
       "</div>"
      ],
      "text/plain": [
       "               y1  名次\n",
       "厂家编号及指标              \n",
       "琉璃河      0.049449   7\n",
       "邯郸       0.840463   5\n",
       "大同      -1.569438  12\n",
       "哈尔滨     -3.739361  15\n",
       "华新       3.957065   1\n",
       "湘乡       3.889455   2\n",
       "柳州       1.611045   4\n",
       "峨嵋      -2.804575  14\n",
       "耀县      -0.474240   9\n",
       "永登       0.663090   6\n",
       "工源      -0.269528   8\n",
       "抚顺      -0.752096  10\n",
       "大连      -1.066534  11\n",
       "江南       1.723416   3\n",
       "江油      -2.058212  13"
      ]
     },
     "execution_count": 35,
     "metadata": {},
     "output_type": "execute_result"
    }
   ],
   "source": [
    "## 得到第一个主成分， 并排名\n",
    "y_2 = pca_2.transform(X_2)\n",
    "index = y_2[:,0].argsort()[::-1].argsort() ## argsort() 返回的是从小到大值对应的序号，所有用两次返回对应大小排序值\n",
    "pd.DataFrame({'y1': y_2[:,0], '名次': index+1}, index=data_2.index)"
   ]
  },
  {
   "cell_type": "markdown",
   "metadata": {},
   "source": [
    "## 4. 练习"
   ]
  },
  {
   "cell_type": "markdown",
   "metadata": {},
   "source": [
    "### 练习1\n",
    "对数据 13,15,16,16,19,20,20,21,22,22,25,25,25,25,30,33,33,35,35,35,35,36,40,45,46,52,70 使用深度为 3 的箱，用箱均值光滑数据。"
   ]
  },
  {
   "cell_type": "code",
   "execution_count": 36,
   "metadata": {},
   "outputs": [
    {
     "data": {
      "text/plain": [
       "array([13, 15, 16, 16, 19, 20, 20, 21, 22, 22, 25, 25, 25, 25, 30, 33, 33,\n",
       "       35, 35, 35, 35, 36, 40, 45, 46, 52, 70])"
      ]
     },
     "execution_count": 36,
     "metadata": {},
     "output_type": "execute_result"
    }
   ],
   "source": [
    "data = np.array([13,15,16,16,19,20,20,21,22,22,25,25,25,25,30,33,33,35,35,35,35,36,40,45,46,52,70])\n",
    "data"
   ]
  },
  {
   "cell_type": "code",
   "execution_count": 37,
   "metadata": {},
   "outputs": [
    {
     "data": {
      "text/plain": [
       "array([14.66666667, 14.66666667, 14.66666667, 18.33333333, 18.33333333,\n",
       "       18.33333333, 21.        , 21.        , 21.        , 24.        ,\n",
       "       24.        , 24.        , 26.66666667, 26.66666667, 26.66666667,\n",
       "       33.66666667, 33.66666667, 33.66666667, 35.        , 35.        ,\n",
       "       35.        , 40.33333333, 40.33333333, 40.33333333, 56.        ,\n",
       "       56.        , 56.        ])"
      ]
     },
     "execution_count": 37,
     "metadata": {},
     "output_type": "execute_result"
    }
   ],
   "source": [
    "np.repeat(data.reshape([-1, 3]).mean(axis=1), 3)"
   ]
  },
  {
   "cell_type": "markdown",
   "metadata": {},
   "source": [
    "### 练习2\n",
    "根据练习1的数据\n",
    "- 使用最小-最大规范化将 35 映射到 $[0,1]$ 区间\n",
    "- 使用z分数规范化变化 35\n",
    "- 使用小数定标规范化变换 35"
   ]
  },
  {
   "cell_type": "code",
   "execution_count": 38,
   "metadata": {},
   "outputs": [
    {
     "data": {
      "text/plain": [
       "0.38596491228070173"
      ]
     },
     "execution_count": 38,
     "metadata": {},
     "output_type": "execute_result"
    }
   ],
   "source": [
    "# min-max\n",
    "(35 - data.min()) / (data.max() - data.min())"
   ]
  },
  {
   "cell_type": "code",
   "execution_count": 39,
   "metadata": {},
   "outputs": [
    {
     "data": {
      "text/plain": [
       "0.3966110348537352"
      ]
     },
     "execution_count": 39,
     "metadata": {},
     "output_type": "execute_result"
    }
   ],
   "source": [
    "## z-score\n",
    "(35 - data.mean()) / data.std()"
   ]
  },
  {
   "cell_type": "code",
   "execution_count": 40,
   "metadata": {},
   "outputs": [
    {
     "data": {
      "text/plain": [
       "0.35"
      ]
     },
     "execution_count": 40,
     "metadata": {},
     "output_type": "execute_result"
    }
   ],
   "source": [
    "## decimal \n",
    "35 / 100"
   ]
  },
  {
   "cell_type": "code",
   "execution_count": null,
   "metadata": {},
   "outputs": [],
   "source": []
  }
 ],
 "metadata": {
  "kernelspec": {
   "display_name": "Python 3",
   "language": "python",
   "name": "python3"
  },
  "language_info": {
   "codemirror_mode": {
    "name": "ipython",
    "version": 3
   },
   "file_extension": ".py",
   "mimetype": "text/x-python",
   "name": "python",
   "nbconvert_exporter": "python",
   "pygments_lexer": "ipython3",
   "version": "3.7.0"
  },
  "toc": {
   "nav_menu": {},
   "number_sections": true,
   "sideBar": true,
   "skip_h1_title": false,
   "toc_cell": true,
   "toc_position": {},
   "toc_section_display": "block",
   "toc_window_display": true
  },
  "varInspector": {
   "cols": {
    "lenName": 16,
    "lenType": 16,
    "lenVar": 40
   },
   "kernels_config": {
    "python": {
     "delete_cmd_postfix": "",
     "delete_cmd_prefix": "del ",
     "library": "var_list.py",
     "varRefreshCmd": "print(var_dic_list())"
    },
    "r": {
     "delete_cmd_postfix": ") ",
     "delete_cmd_prefix": "rm(",
     "library": "var_list.r",
     "varRefreshCmd": "cat(var_dic_list()) "
    }
   },
   "types_to_exclude": [
    "module",
    "function",
    "builtin_function_or_method",
    "instance",
    "_Feature"
   ],
   "window_display": false
  }
 },
 "nbformat": 4,
 "nbformat_minor": 2
}
